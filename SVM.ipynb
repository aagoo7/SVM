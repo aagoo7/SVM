{
 "cells": [
  {
   "cell_type": "code",
   "execution_count": 7,
   "metadata": {},
   "outputs": [],
   "source": [
    "import numpy as np\n",
    "import pandas as pd\n",
    "import seaborn as sns\n",
    "import matplotlib.pyplot as plt\n",
    "from sklearn.svm import SVC\n",
    "from sklearn.model_selection import train_test_split\n",
    "from sklearn.preprocessing import StandardScaler\n",
    "from sklearn.metrics import confusion_matrix\n",
    "from sklearn.metrics import classification_report\n",
    "from sklearn.metrics import accuracy_score"
   ]
  },
  {
   "cell_type": "code",
   "execution_count": 8,
   "metadata": {},
   "outputs": [
    {
     "name": "stdout",
     "output_type": "stream",
     "text": [
      "      Variance  Skewness  Curtosis  Entropy  Class\n",
      "0      3.62160   8.66610   -2.8073 -0.44699      0\n",
      "1      4.54590   8.16740   -2.4586 -1.46210      0\n",
      "2      3.86600  -2.63830    1.9242  0.10645      0\n",
      "3      3.45660   9.52280   -4.0112 -3.59440      0\n",
      "4      0.32924  -4.45520    4.5718 -0.98880      0\n",
      "...        ...       ...       ...      ...    ...\n",
      "1367   0.40614   1.34920   -1.4501 -0.55949      1\n",
      "1368  -1.38870  -4.87730    6.4774  0.34179      1\n",
      "1369  -3.75030 -13.45860   17.5932 -2.77710      1\n",
      "1370  -3.56370  -8.38270   12.3930 -1.28230      1\n",
      "1371  -2.54190  -0.65804    2.6842  1.19520      1\n",
      "\n",
      "[1372 rows x 5 columns]\n"
     ]
    }
   ],
   "source": [
    "a = pd.read_csv(\"bank.csv\")\n",
    "print(a)"
   ]
  },
  {
   "cell_type": "code",
   "execution_count": 9,
   "metadata": {},
   "outputs": [
    {
     "name": "stdout",
     "output_type": "stream",
     "text": [
      "(1372, 5)\n",
      "          Variance     Skewness     Curtosis      Entropy        Class\n",
      "count  1372.000000  1372.000000  1372.000000  1372.000000  1372.000000\n",
      "mean      0.433735     1.922353     1.397627    -1.191657     0.444606\n",
      "std       2.842763     5.869047     4.310030     2.101013     0.497103\n",
      "min      -7.042100   -13.773100    -5.286100    -8.548200     0.000000\n",
      "25%      -1.773000    -1.708200    -1.574975    -2.413450     0.000000\n",
      "50%       0.496180     2.319650     0.616630    -0.586650     0.000000\n",
      "75%       2.821475     6.814625     3.179250     0.394810     1.000000\n",
      "max       6.824800    12.951600    17.927400     2.449500     1.000000\n"
     ]
    }
   ],
   "source": [
    "print(a.shape)\n",
    "print(a.describe())"
   ]
  },
  {
   "cell_type": "code",
   "execution_count": 10,
   "metadata": {},
   "outputs": [
    {
     "name": "stdout",
     "output_type": "stream",
     "text": [
      "<bound method DataFrame.corr of       Variance  Skewness  Curtosis  Entropy  Class\n",
      "0      3.62160   8.66610   -2.8073 -0.44699      0\n",
      "1      4.54590   8.16740   -2.4586 -1.46210      0\n",
      "2      3.86600  -2.63830    1.9242  0.10645      0\n",
      "3      3.45660   9.52280   -4.0112 -3.59440      0\n",
      "4      0.32924  -4.45520    4.5718 -0.98880      0\n",
      "...        ...       ...       ...      ...    ...\n",
      "1367   0.40614   1.34920   -1.4501 -0.55949      1\n",
      "1368  -1.38870  -4.87730    6.4774  0.34179      1\n",
      "1369  -3.75030 -13.45860   17.5932 -2.77710      1\n",
      "1370  -3.56370  -8.38270   12.3930 -1.28230      1\n",
      "1371  -2.54190  -0.65804    2.6842  1.19520      1\n",
      "\n",
      "[1372 rows x 5 columns]>\n"
     ]
    }
   ],
   "source": [
    "c = a.corr\n",
    "print(c)    "
   ]
  },
  {
   "cell_type": "code",
   "execution_count": 11,
   "metadata": {},
   "outputs": [
    {
     "name": "stdout",
     "output_type": "stream",
     "text": [
      "   Variance  Skewness  Curtosis  Entropy  Class\n",
      "0   3.62160    8.6661   -2.8073 -0.44699      0\n",
      "1   4.54590    8.1674   -2.4586 -1.46210      0\n",
      "2   3.86600   -2.6383    1.9242  0.10645      0\n",
      "3   3.45660    9.5228   -4.0112 -3.59440      0\n",
      "4   0.32924   -4.4552    4.5718 -0.98880      0\n"
     ]
    }
   ],
   "source": [
    "print(a.head())"
   ]
  },
  {
   "cell_type": "code",
   "execution_count": 12,
   "metadata": {},
   "outputs": [
    {
     "name": "stdout",
     "output_type": "stream",
     "text": [
      "      Variance  Skewness  Curtosis  Entropy\n",
      "0      3.62160   8.66610   -2.8073 -0.44699\n",
      "1      4.54590   8.16740   -2.4586 -1.46210\n",
      "2      3.86600  -2.63830    1.9242  0.10645\n",
      "3      3.45660   9.52280   -4.0112 -3.59440\n",
      "4      0.32924  -4.45520    4.5718 -0.98880\n",
      "...        ...       ...       ...      ...\n",
      "1367   0.40614   1.34920   -1.4501 -0.55949\n",
      "1368  -1.38870  -4.87730    6.4774  0.34179\n",
      "1369  -3.75030 -13.45860   17.5932 -2.77710\n",
      "1370  -3.56370  -8.38270   12.3930 -1.28230\n",
      "1371  -2.54190  -0.65804    2.6842  1.19520\n",
      "\n",
      "[1372 rows x 4 columns]\n"
     ]
    }
   ],
   "source": [
    "x = a.drop(\"Class\", axis = 1)\n",
    "print(x)"
   ]
  },
  {
   "cell_type": "code",
   "execution_count": 13,
   "metadata": {},
   "outputs": [
    {
     "name": "stdout",
     "output_type": "stream",
     "text": [
      "0       0\n",
      "1       0\n",
      "2       0\n",
      "3       0\n",
      "4       0\n",
      "       ..\n",
      "1367    1\n",
      "1368    1\n",
      "1369    1\n",
      "1370    1\n",
      "1371    1\n",
      "Name: Class, Length: 1372, dtype: int64\n"
     ]
    }
   ],
   "source": [
    "y = a['Class']\n",
    "print(y)"
   ]
  },
  {
   "cell_type": "code",
   "execution_count": 16,
   "metadata": {},
   "outputs": [],
   "source": [
    "X_train, X_test, y_train, y_test = train_test_split(x, y, test_size = 0.2) "
   ]
  },
  {
   "cell_type": "code",
   "execution_count": 18,
   "metadata": {},
   "outputs": [
    {
     "name": "stdout",
     "output_type": "stream",
     "text": [
      "1372\n"
     ]
    }
   ],
   "source": [
    "print(len(x))"
   ]
  },
  {
   "cell_type": "code",
   "execution_count": 19,
   "metadata": {},
   "outputs": [
    {
     "name": "stdout",
     "output_type": "stream",
     "text": [
      "275\n"
     ]
    }
   ],
   "source": [
    "print(len(X_test))"
   ]
  },
  {
   "cell_type": "code",
   "execution_count": 20,
   "metadata": {},
   "outputs": [
    {
     "name": "stdout",
     "output_type": "stream",
     "text": [
      "      Variance  Skewness  Curtosis   Entropy\n",
      "700    3.92620   6.02990  -2.01560 -0.065531\n",
      "221    2.41960   6.46650  -0.75688  0.228000\n",
      "1026   0.11806   0.39108  -0.98223  0.428430\n",
      "82     5.01850   8.59780  -2.93750 -1.281000\n",
      "1186  -4.24400 -13.06340  17.11160 -2.801700\n",
      "...        ...       ...       ...       ...\n",
      "1288  -2.65900  -1.60580   1.36470  0.164640\n",
      "718    4.09320   5.41320  -1.82190  0.235760\n",
      "465   -2.69890  12.19840   0.67661 -8.548200\n",
      "158    2.26340  -4.48620   3.65580 -0.612510\n",
      "1008  -1.94090  -8.68480   9.15500  0.940490\n",
      "\n",
      "[1097 rows x 4 columns]\n"
     ]
    }
   ],
   "source": [
    "print(X_train)"
   ]
  },
  {
   "cell_type": "code",
   "execution_count": 21,
   "metadata": {},
   "outputs": [
    {
     "name": "stdout",
     "output_type": "stream",
     "text": [
      "      Variance  Skewness  Curtosis  Entropy\n",
      "115    2.53310   2.91350  -0.82200 -0.12243\n",
      "169    0.11739   6.27610  -1.54950 -2.47460\n",
      "463   -1.94580  11.22170   1.90790 -3.44050\n",
      "1312   0.55939  -0.31040   0.18307  0.44653\n",
      "1234  -4.94620   3.57160   0.82742 -1.49570\n",
      "...        ...       ...       ...      ...\n",
      "346    4.09720   0.46972   1.66710  0.91593\n",
      "829   -2.24820   3.09150  -2.39690 -2.67110\n",
      "199    5.88620   5.87470  -2.81670 -0.30087\n",
      "1028  -2.72640   3.92130  -0.49212 -3.63710\n",
      "13    -1.57680  10.84300   2.54620 -2.93620\n",
      "\n",
      "[275 rows x 4 columns]\n"
     ]
    }
   ],
   "source": [
    "print(X_test)"
   ]
  },
  {
   "cell_type": "code",
   "execution_count": 22,
   "metadata": {},
   "outputs": [
    {
     "name": "stdout",
     "output_type": "stream",
     "text": [
      "StandardScaler()\n"
     ]
    }
   ],
   "source": [
    "scaler = StandardScaler()\n",
    "h = scaler.fit(X_train)\n",
    "print(h)"
   ]
  },
  {
   "cell_type": "code",
   "execution_count": 23,
   "metadata": {},
   "outputs": [
    {
     "name": "stdout",
     "output_type": "stream",
     "text": [
      "[[ 1.23190799  0.7117183  -0.80263638  0.53427154]\n",
      " [ 0.70023057  0.78627575 -0.51059645  0.67337771]\n",
      " [-0.11198026 -0.25121357 -0.56288067  0.76836274]\n",
      " ...\n",
      " [-1.10608222  1.76510273 -0.17800753 -3.48571818]\n",
      " [ 0.64510777 -1.08409852  0.51320454  0.27505478]\n",
      " [-0.83858489 -1.80108643  1.78909275  1.01103116]]\n"
     ]
    }
   ],
   "source": [
    "X_train = scaler.transform(X_train)\n",
    "print(X_train)"
   ]
  },
  {
   "cell_type": "code",
   "execution_count": 24,
   "metadata": {},
   "outputs": [
    {
     "name": "stdout",
     "output_type": "stream",
     "text": [
      "[[ 0.74028459  0.17953588 -0.52570516  0.50730675]\n",
      " [-0.1122167   0.75376146 -0.69449492 -0.60740128]\n",
      " [-0.84031409  1.59831331  0.10766828 -1.06514731]\n",
      " ...\n",
      " [ 1.92358974  0.68521505 -0.98850233  0.42274292]\n",
      " [-1.11578694  0.3516362  -0.44916857 -1.15831727]\n",
      " [-0.71009441  1.53364334  0.25576245 -0.82615639]]\n"
     ]
    }
   ],
   "source": [
    "X_test = scaler.transform(X_test)\n",
    "print(X_test)"
   ]
  },
  {
   "cell_type": "code",
   "execution_count": 25,
   "metadata": {},
   "outputs": [
    {
     "name": "stdout",
     "output_type": "stream",
     "text": [
      "SVC(kernel='linear')\n"
     ]
    }
   ],
   "source": [
    "o = SVC(kernel='linear')\n",
    "lm = o.fit(X_train, y_train)\n",
    "print(lm)"
   ]
  },
  {
   "cell_type": "code",
   "execution_count": 26,
   "metadata": {},
   "outputs": [
    {
     "name": "stdout",
     "output_type": "stream",
     "text": [
      "[0 0 0 1 1 0 0 0 1 1 0 0 0 1 0 1 1 1 1 1 0 1 1 0 1 0 1 0 0 1 0 0 1 0 0 0 1\n",
      " 1 0 1 0 1 0 0 0 0 0 1 1 1 0 1 0 0 0 0 0 1 1 1 1 0 1 1 0 0 0 1 1 0 1 1 0 0\n",
      " 0 1 1 1 0 1 0 0 1 1 0 0 1 0 1 0 1 1 0 1 0 0 1 1 1 1 1 0 1 1 1 1 0 0 1 0 0\n",
      " 1 1 1 1 0 1 1 0 0 1 1 0 1 0 1 0 0 0 1 1 1 0 0 0 0 1 1 0 0 1 0 0 0 0 0 0 0\n",
      " 1 0 0 1 0 0 0 0 1 1 1 0 0 0 0 0 1 0 0 0 0 1 0 0 1 1 1 1 1 1 0 0 0 0 1 0 1\n",
      " 1 0 1 1 1 1 0 1 1 0 0 1 0 0 0 0 1 0 0 1 0 0 0 0 0 1 1 1 0 0 1 1 0 0 1 0 0\n",
      " 1 0 0 0 1 0 0 0 1 1 1 0 1 1 0 0 0 1 0 1 0 0 0 1 1 0 0 1 1 0 1 1 1 1 0 0 0\n",
      " 0 1 1 1 0 0 1 0 0 0 0 0 1 0 1 0]\n"
     ]
    }
   ],
   "source": [
    "b = lm.predict(X_test)\n",
    "print(b)"
   ]
  },
  {
   "cell_type": "code",
   "execution_count": 27,
   "metadata": {},
   "outputs": [
    {
     "name": "stdout",
     "output_type": "stream",
     "text": [
      "              precision    recall  f1-score   support\n",
      "\n",
      "           0       0.99      0.99      0.99       150\n",
      "           1       0.99      0.99      0.99       125\n",
      "\n",
      "    accuracy                           0.99       275\n",
      "   macro avg       0.99      0.99      0.99       275\n",
      "weighted avg       0.99      0.99      0.99       275\n",
      "\n"
     ]
    }
   ],
   "source": [
    "f = classification_report(y_test,b)\n",
    "print(f)"
   ]
  },
  {
   "cell_type": "code",
   "execution_count": 28,
   "metadata": {},
   "outputs": [
    {
     "name": "stdout",
     "output_type": "stream",
     "text": [
      "[[149   1]\n",
      " [  1 124]]\n"
     ]
    }
   ],
   "source": [
    "m = confusion_matrix(y_test,b)\n",
    "print(m)"
   ]
  },
  {
   "cell_type": "code",
   "execution_count": 30,
   "metadata": {},
   "outputs": [
    {
     "name": "stdout",
     "output_type": "stream",
     "text": [
      "0.9927272727272727\n"
     ]
    }
   ],
   "source": [
    "n = accuracy_score(y_test,b)\n",
    "print(n)"
   ]
  }
 ],
 "metadata": {
  "interpreter": {
   "hash": "5bbd847a2d0f7bb5745d70600c553e2e7393298b1f411a58406a6fe1027cef79"
  },
  "kernelspec": {
   "display_name": "Python 3.9.7 ('base')",
   "language": "python",
   "name": "python3"
  },
  "language_info": {
   "codemirror_mode": {
    "name": "ipython",
    "version": 3
   },
   "file_extension": ".py",
   "mimetype": "text/x-python",
   "name": "python",
   "nbconvert_exporter": "python",
   "pygments_lexer": "ipython3",
   "version": "3.9.7"
  },
  "orig_nbformat": 4
 },
 "nbformat": 4,
 "nbformat_minor": 2
}
